{
 "cells": [
  {
   "cell_type": "markdown",
   "metadata": {},
   "source": [
    "$$ min \\ f = \\sum_{j=1}^K \\sum_{x_{i}\\epsilon C_{j}} || x_{j}-\\mu_{j}||^2 $$"
   ]
  },
  {
   "cell_type": "code",
   "execution_count": 84,
   "metadata": {},
   "outputs": [],
   "source": [
    "import numpy as np\n",
    "\n",
    "class Particle:\n",
    "    def __init__(self, num_clusters, num_features):\n",
    "        self.position = np.random.rand(num_clusters, num_features)\n",
    "        self.velocity = np.random.rand(num_clusters, num_features)\n",
    "        self.best_position = self.position.copy()\n",
    "        self.best_fitness = float('inf')"
   ]
  },
  {
   "cell_type": "code",
   "execution_count": 85,
   "metadata": {},
   "outputs": [],
   "source": [
    "def fitness_function(data, particles, num_clusters):\n",
    "    distances = np.zeros((len(data), num_clusters))\n",
    "\n",
    "    for i, particle in enumerate(particles):\n",
    "        for j in range(num_clusters):\n",
    "            distances[:, j] = np.linalg.norm(data - particle.position[j], axis=1)\n",
    "\n",
    "        particle_fitness = np.sum(np.min(distances, axis=1))\n",
    "        \n",
    "        if particle_fitness < particle.best_fitness:\n",
    "            particle.best_fitness = particle_fitness\n",
    "            particle.best_position = particle.position.copy()\n",
    "\n",
    "    return particles"
   ]
  },
  {
   "cell_type": "code",
   "execution_count": 86,
   "metadata": {},
   "outputs": [],
   "source": [
    "def update_velocity_position(particles, inertia, c1, c2, global_best_position):\n",
    "    for particle in particles:\n",
    "        inertia_term = inertia * particle.velocity\n",
    "        cognitive_term = c1 * np.random.rand() * (particle.best_position - particle.position)\n",
    "        social_term = c2 * np.random.rand() * (global_best_position - particle.position)\n",
    "\n",
    "        particle.velocity = inertia_term + cognitive_term + social_term\n",
    "        particle.position = particle.position + particle.velocity"
   ]
  },
  {
   "cell_type": "code",
   "execution_count": 90,
   "metadata": {},
   "outputs": [],
   "source": [
    "def initialize_particles(num_particles, num_clusters, num_features):\n",
    "    particles = [Particle(num_clusters, num_features) for _ in range(num_particles)]\n",
    "    return particles\n"
   ]
  },
  {
   "cell_type": "code",
   "execution_count": 91,
   "metadata": {},
   "outputs": [],
   "source": [
    "# Load your data and set parameters\n",
    "data = np.loadtxt(\"./data/wikipedia_td.txt\")\n",
    "num_particles = 30\n",
    "num_clusters = 10\n",
    "num_features = data.shape[1]  # Corrected the dimension of num_features\n",
    "max_iterations = 100\n",
    "inertia = 0.5\n",
    "c1 = 2.0\n",
    "c2 = 2.0\n",
    "\n",
    "# Initialize particles\n",
    "particles = initialize_particles(num_particles, num_clusters, num_features)\n",
    "global_best_position = None\n",
    "global_best_fitness = float('inf')"
   ]
  },
  {
   "cell_type": "code",
   "execution_count": 92,
   "metadata": {},
   "outputs": [],
   "source": [
    "#  PSO Main Loop\n",
    "for iteration in range(max_iterations):\n",
    "    particles = fitness_function(data, particles, num_clusters)\n",
    "    \n",
    "    # Update global best\n",
    "    for particle in particles:\n",
    "        if particle.best_fitness < global_best_fitness:\n",
    "            global_best_fitness = particle.best_fitness\n",
    "            global_best_position = particle.best_position.copy()\n",
    "\n",
    "    # Update particles' velocity and position\n",
    "    update_velocity_position(particles, inertia, c1, c2, global_best_position)"
   ]
  },
  {
   "cell_type": "code",
   "execution_count": 93,
   "metadata": {},
   "outputs": [
    {
     "name": "stdout",
     "output_type": "stream",
     "text": [
      "Top words for each cluster:\n",
      "Cluster 1: share, pass, government, defeat, shortly, track, control, james, critic, cite\n",
      "Cluster 2: overall, enter, level, select, community, private, require, element, half, choice\n",
      "Cluster 3: record, heart, launch, broadcast, hour, sometimes, king, black, request, explain\n",
      "Cluster 4: parent, attention, movie, writer, feel, board, mixed, decision, writing, officially\n",
      "Cluster 5: england, political, campaign, test, sell, program, company, question, engage, play\n",
      "Cluster 6: lot, san, common, paul, city, support, express, able, appearance, canada\n",
      "Cluster 7: left, force, travel, charge, believe, talk, marry, enter, accord, official\n",
      "Cluster 8: regular, subsequently, average, variety, defeat, addition, system, professional, contain, office\n",
      "Cluster 9: drive, attend, hospital, george, challenge, manage, studio, title, agree, response\n",
      "Cluster 10: entertainment, hear, explain, believe, determine, spend, potential, american, capture, richard\n"
     ]
    }
   ],
   "source": [
    "import csv\n",
    "\n",
    "# Load dictionary from CSV file\n",
    "dictionary_path = \"./data/dictionary.csv\"  # Replace with the actual path to your dictionary CSV file\n",
    "dictionary = {}\n",
    "\n",
    "with open(dictionary_path, \"r\", encoding=\"utf-8\") as csvfile:\n",
    "    reader = csv.reader(csvfile)\n",
    "    for index, word in enumerate(reader):\n",
    "        dictionary[index] = word[0]\n",
    "\n",
    "# print(dictionary)\n",
    "\n",
    "# Print the words corresponding to the top 10 entries of the global best position\n",
    "sorted_indices = np.argsort(-global_best_position, axis=1)\n",
    "top_words = [[dictionary[idx] for idx in row[:10]] for row in sorted_indices]\n",
    "print(\"Top words for each cluster:\")\n",
    "for cluster_index, words in enumerate(top_words):\n",
    "    print(f\"Cluster {cluster_index + 1}: {', '.join(words)}\")\n",
    "\n"
   ]
  },
  {
   "cell_type": "code",
   "execution_count": 82,
   "metadata": {},
   "outputs": [],
   "source": [
    "titles_df = pd.read_csv(\"./data/titles.csv\", header=None)\n",
    "titles = titles_df.iloc[:, 0].tolist()"
   ]
  },
  {
   "cell_type": "code",
   "execution_count": null,
   "metadata": {},
   "outputs": [],
   "source": []
  }
 ],
 "metadata": {
  "kernelspec": {
   "display_name": "Python 3",
   "language": "python",
   "name": "python3"
  },
  "language_info": {
   "codemirror_mode": {
    "name": "ipython",
    "version": 3
   },
   "file_extension": ".py",
   "mimetype": "text/x-python",
   "name": "python",
   "nbconvert_exporter": "python",
   "pygments_lexer": "ipython3",
   "version": "3.12.0"
  }
 },
 "nbformat": 4,
 "nbformat_minor": 2
}
