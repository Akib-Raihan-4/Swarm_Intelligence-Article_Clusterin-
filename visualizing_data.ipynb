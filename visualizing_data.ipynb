{
 "cells": [
  {
   "cell_type": "markdown",
   "metadata": {},
   "source": [
    "$$ min \\ f = \\sum_{j=1}^K \\sum_{x_{i}\\epsilon C_{j}} || x_{j}-\\mu_{j}||^2 $$"
   ]
  },
  {
   "cell_type": "code",
   "execution_count": 1,
   "metadata": {},
   "outputs": [],
   "source": [
    "import csv\n",
    "import numpy as np\n",
    "import pandas as pd\n",
    "class Particle:\n",
    "    def __init__(self, num_clusters, num_features):\n",
    "        self.position = np.random.rand(num_clusters, num_features)\n",
    "        self.velocity = np.random.rand(num_clusters, num_features)\n",
    "        self.best_position = self.position.copy()\n",
    "        self.best_fitness = float('inf')"
   ]
  },
  {
   "cell_type": "code",
   "execution_count": 2,
   "metadata": {},
   "outputs": [],
   "source": [
    "def fitness_function(data, particles, num_clusters):\n",
    "    distances = np.zeros((len(data), num_clusters))\n",
    "\n",
    "    for i, particle in enumerate(particles):\n",
    "        for j in range(num_clusters):\n",
    "            distances[:, j] = np.linalg.norm(data - particle.position[j], axis=1)\n",
    "\n",
    "        particle_fitness = np.sum(np.min(distances, axis=1))\n",
    "        \n",
    "        if particle_fitness < particle.best_fitness:\n",
    "            particle.best_fitness = particle_fitness\n",
    "            particle.best_position = particle.position.copy()\n",
    "\n",
    "    return particles"
   ]
  },
  {
   "cell_type": "code",
   "execution_count": 3,
   "metadata": {},
   "outputs": [],
   "source": [
    "def update_velocity_position(particles, inertia, c1, c2, global_best_position):\n",
    "    for particle in particles:\n",
    "        inertia_term = inertia * particle.velocity\n",
    "        cognitive_term = c1 * np.random.rand() * (particle.best_position - particle.position)\n",
    "        social_term = c2 * np.random.rand() * (global_best_position - particle.position)\n",
    "\n",
    "        particle.velocity = inertia_term + cognitive_term + social_term\n",
    "        particle.position = particle.position + particle.velocity"
   ]
  },
  {
   "cell_type": "code",
   "execution_count": 4,
   "metadata": {},
   "outputs": [],
   "source": [
    "def initialize_particles(num_particles, num_clusters, num_features):\n",
    "    particles = [Particle(num_clusters, num_features) for _ in range(num_particles)]\n",
    "    return particles"
   ]
  },
  {
   "cell_type": "code",
   "execution_count": 16,
   "metadata": {},
   "outputs": [
    {
     "name": "stdout",
     "output_type": "stream",
     "text": [
      "(4423, 10)\n"
     ]
    }
   ],
   "source": [
    "# Load your data and set parameters\n",
    "data = np.loadtxt(\"./data/wikipedia_td.txt\")\n",
    "num_particles = 30\n",
    "num_clusters = 10\n",
    "num_features = data.shape[1]\n",
    "max_iterations = 100\n",
    "inertia = 0.5\n",
    "c1 = 2.0\n",
    "c2 = 2.0\n",
    "\n",
    "\n",
    "# Initialize particles\n",
    "particles = initialize_particles(num_particles, num_clusters, num_features)\n",
    "global_best_position = None\n",
    "global_best_fitness = float('inf')\n"
   ]
  },
  {
   "cell_type": "code",
   "execution_count": 6,
   "metadata": {},
   "outputs": [],
   "source": [
    "# PSO Main Loop\n",
    "for iteration in range(max_iterations):\n",
    "    particles = fitness_function(data, particles, num_clusters)\n",
    "    \n",
    "    # Update global best\n",
    "    for particle in particles:\n",
    "        if particle.best_fitness < global_best_fitness:\n",
    "            global_best_fitness = particle.best_fitness\n",
    "            global_best_position = particle.best_position.copy()\n",
    "\n",
    "    # Update particles' velocity and position\n",
    "    update_velocity_position(particles, inertia, c1, c2, global_best_position)"
   ]
  },
  {
   "cell_type": "code",
   "execution_count": 7,
   "metadata": {},
   "outputs": [
    {
     "name": "stdout",
     "output_type": "stream",
     "text": [
      "Top words for each cluster:\n",
      "Cluster 1: hour, street, special, perform, decade, walk, force, control, common, deal\n",
      "Cluster 2: receive, television, request, critic, critical, successful, schedule, guest, sell, achieve\n",
      "Cluster 3: win, business, annual, rise, manager, guest, leader, moment, shortly, positive\n",
      "Cluster 4: speak, note, development, appear, mixed, production, defeat, focus, display, fail\n",
      "Cluster 5: schedule, refuse, academy, idea, explain, test, president, television, prior, promote\n",
      "Cluster 6: leader, rule, paid, united, half, especially, search, match, range, sound\n",
      "Cluster 7: train, status, service, receive, producer, rest, rise, host, influence, attack\n",
      "Cluster 8: star, traditional, feature, attention, largest, hospital, video, base, fight, book\n",
      "Cluster 9: play, action, victory, draw, feature, house, night, summer, sound, drop\n",
      "Cluster 10: canada, love, represent, top, arrive, shoot, event, reference, fan, criticize\n"
     ]
    }
   ],
   "source": [
    "import csv\n",
    "\n",
    "# Load dictionary from CSV file\n",
    "dictionary_path = \"./data/dictionary.csv\"  # Replace with the actual path to your dictionary CSV file\n",
    "dictionary = {}\n",
    "\n",
    "with open(dictionary_path, \"r\", encoding=\"utf-8\") as csvfile:\n",
    "    reader = csv.reader(csvfile)\n",
    "    for index, word in enumerate(reader):\n",
    "        dictionary[index] = word[0]\n",
    "\n",
    "# print(dictionary)\n",
    "\n",
    "# Print the words corresponding to the top 10 entries of the global best position\n",
    "sorted_indices = np.argsort(-global_best_position, axis=1)\n",
    "top_words = [[dictionary[idx] for idx in row[:10]] for row in sorted_indices]\n",
    "print(\"Top words for each cluster:\")\n",
    "for cluster_index, words in enumerate(top_words):\n",
    "    print(f\"Cluster {cluster_index + 1}: {', '.join(words)}\")\n",
    "\n"
   ]
  },
  {
   "cell_type": "code",
   "execution_count": 8,
   "metadata": {},
   "outputs": [],
   "source": [
    "import csv\n",
    "\n",
    "# Load dictionary from CSV file\n",
    "titles_path = \"./data/titles.csv\"  # Replace with the actual path to your dictionary CSV file\n",
    "titles = {}\n",
    "\n",
    "with open(titles_path, \"r\", encoding=\"utf-8\") as csvfile:\n",
    "    reader = csv.reader(csvfile)\n",
    "    for index, title in enumerate(reader):\n",
    "        titles[index] = title[0]\n"
   ]
  },
  {
   "cell_type": "code",
   "execution_count": 9,
   "metadata": {},
   "outputs": [
    {
     "name": "stdout",
     "output_type": "stream",
     "text": [
      "Top 10 titles for each cluster:\n",
      "Cluster 1: Beyonce, Keanu_Reeves, Lisa_Brennan-Jobs, Beyonce, Coachella_Valley_Music_and_Arts_Festival, Charlie_Sheen, Charlie_Sheen, Charlie_Sheen, Lisa_Brennan-Jobs, Beyonce\n",
      "Cluster 2: Lisa_Brennan-Jobs, Negan, Charlie_Sheen, Unfinished_portrait_of_Franklin_D._Roosevelt, Beyonce, Crimson_Peak, Crimson_Peak, Keanu_Reeves, Charlie_Sheen, Rodrigo_Duterte\n",
      "Cluster 3: Rodrigo_Duterte, Beyonce, Rodrigo_Duterte, Charlie_Sheen, Negan, Lisa_Brennan-Jobs, Keanu_Reeves, Lisa_Brennan-Jobs, Cam_Newton, Keanu_Reeves\n",
      "Cluster 4: Unfinished_portrait_of_Franklin_D._Roosevelt, Cam_Newton, Unfinished_portrait_of_Franklin_D._Roosevelt, Negan, Charlie_Sheen, Cam_Newton, Coachella_Valley_Music_and_Arts_Festival, Negan, Unfinished_portrait_of_Franklin_D._Roosevelt, Negan\n",
      "Cluster 5: Charlie_Sheen, Coachella_Valley_Music_and_Arts_Festival, Cam_Newton, Lisa_Brennan-Jobs, Rodrigo_Duterte, Coachella_Valley_Music_and_Arts_Festival, Rodrigo_Duterte, Coachella_Valley_Music_and_Arts_Festival, Crimson_Peak, Cam_Newton\n",
      "Cluster 6: Crimson_Peak, Rodrigo_Duterte, Coachella_Valley_Music_and_Arts_Festival, Coachella_Valley_Music_and_Arts_Festival, Unfinished_portrait_of_Franklin_D._Roosevelt, Keanu_Reeves, Negan, Unfinished_portrait_of_Franklin_D._Roosevelt, Keanu_Reeves, Lisa_Brennan-Jobs\n",
      "Cluster 7: Cam_Newton, Crimson_Peak, Keanu_Reeves, Crimson_Peak, Lisa_Brennan-Jobs, Negan, Beyonce, Beyonce, Coachella_Valley_Music_and_Arts_Festival, Crimson_Peak\n",
      "Cluster 8: Keanu_Reeves, Unfinished_portrait_of_Franklin_D._Roosevelt, Crimson_Peak, Rodrigo_Duterte, Cam_Newton, Beyonce, Lisa_Brennan-Jobs, Rodrigo_Duterte, Beyonce, Unfinished_portrait_of_Franklin_D._Roosevelt\n",
      "Cluster 9: Coachella_Valley_Music_and_Arts_Festival, Lisa_Brennan-Jobs, Beyonce, Cam_Newton, Crimson_Peak, Unfinished_portrait_of_Franklin_D._Roosevelt, Cam_Newton, Cam_Newton, Negan, Coachella_Valley_Music_and_Arts_Festival\n",
      "Cluster 10: Negan, Charlie_Sheen, Negan, Keanu_Reeves, Keanu_Reeves, Rodrigo_Duterte, Unfinished_portrait_of_Franklin_D._Roosevelt, Crimson_Peak, Rodrigo_Duterte, Charlie_Sheen\n"
     ]
    }
   ],
   "source": [
    "sorted_indices = np.argsort(-global_best_position, axis=0)\n",
    "top_titles = [[titles[idx] for idx in row[:10]] for row in sorted_indices]\n",
    "print(\"Top 10 titles for each cluster:\")\n",
    "for cluster_index, titles in enumerate(top_titles):\n",
    "    print(f\"Cluster {cluster_index + 1}: {', '.join(titles)}\")"
   ]
  },
  {
   "cell_type": "code",
   "execution_count": 17,
   "metadata": {},
   "outputs": [
    {
     "data": {
      "image/png": "[encoded data removed]",
      "text/plain": [
       "<Figure size 640x480 with 1 Axes>"
      ]
     },
     "metadata": {},
     "output_type": "display_data"
    },
    {
     "name": "stdout",
     "output_type": "stream",
     "text": [
      "\n",
      "Best Results:\n",
      "0               max_iterations  inertia   c1   c2  best_fitness\n",
      "max_iterations                                                 \n",
      "100                      100.0      0.5  2.0  2.0  14231.294182\n"
     ]
    }
   ],
   "source": [
    "import matplotlib.pyplot as plt\n",
    "# Experiment with different maximum iteration values (100, 500, 1000)\n",
    "max_iterations_values = [100]\n",
    "\n",
    "# Experiment with different parameter values\n",
    "inertia_values = [0.5]\n",
    "c1_values = [2.0]\n",
    "c2_values = [2.0]\n",
    "\n",
    "# Collect results for plotting\n",
    "results = []\n",
    "\n",
    "for max_iterations in max_iterations_values:\n",
    "    for inertia in inertia_values:\n",
    "        for c1 in c1_values:\n",
    "            for c2 in c2_values:\n",
    "                # Initialize particles\n",
    "                particles = initialize_particles(num_particles, num_clusters, num_features)\n",
    "                global_best_position = None\n",
    "                global_best_fitness = float('inf')\n",
    "                fitness_history = []\n",
    "\n",
    "                # PSO Main Loop\n",
    "                for iteration in range(max_iterations):\n",
    "                    particles = fitness_function(data, particles, num_clusters)\n",
    "\n",
    "                    # Update global best\n",
    "                    for particle in particles:\n",
    "                        if particle.best_fitness < global_best_fitness:\n",
    "                            global_best_fitness = particle.best_fitness\n",
    "                            global_best_position = particle.best_position.copy()\n",
    "\n",
    "                    fitness_history.append(global_best_fitness)\n",
    "\n",
    "                    # Update particles' velocity and position\n",
    "                    update_velocity_position(particles, inertia, c1, c2, global_best_position)\n",
    "\n",
    "                # Store the results for this combination of parameters\n",
    "                results.append({\n",
    "                    'max_iterations': max_iterations,\n",
    "                    'inertia': inertia,\n",
    "                    'c1': c1,\n",
    "                    'c2': c2,\n",
    "                    'best_fitness': global_best_fitness\n",
    "                })\n",
    "                # Plot fitness vs number of iterations\n",
    "                plt.plot(range(1, max_iterations + 1), fitness_history, label=f\"max_iter={max_iterations}, inertia={inertia}, c1={c1}, c2={c2}\")\n",
    "\n",
    "plt.xlabel('Number of Iterations')\n",
    "plt.ylabel('Fitness Value')\n",
    "plt.legend()\n",
    "plt.show()\n",
    "\n",
    "# Find the best result for each algorithm\n",
    "best_results_df = pd.DataFrame(results)\n",
    "best_results = best_results_df.groupby('max_iterations').apply(lambda x: x.loc[x['best_fitness'].idxmin()])\n",
    "\n",
    "print(\"\\nBest Results:\")\n",
    "print(best_results[['max_iterations', 'inertia', 'c1', 'c2', 'best_fitness']])\n"
   ]
  },
  {
   "cell_type": "code",
   "execution_count": 48,
   "metadata": {},
   "outputs": [
    {
     "name": "stdout",
     "output_type": "stream",
     "text": [
      "(10, 500)\n"
     ]
    }
   ],
   "source": [
    "# Load titles from CSV file\n",
    "titles_path = \"./data/titles.csv\"  # Replace with the actual path to your titles CSV file\n",
    "titles_df = pd.read_csv(titles_path, header=None, names=['Titles'])\n",
    "\n",
    "# Find the top 10 titles for each cluster\n",
    "top_titles_indices = np.argsort(-global_best_position, axis=0)\n",
    "top_titles = titles_df.iloc[top_titles_indices.flatten()]['Titles'].values.reshape(10, -1)\n",
    "\n",
    "print(top_titles_indices.shape)\n",
    "# Print the top 10 titles for each cluster\n",
    "# print(\"\\nTop titles for each cluster:\")\n",
    "# for cluster_index, cluster_titles in enumerate(top_titles):\n",
    "#     print(f\"Cluster {cluster_index + 1}:\")\n",
    "#     for title in cluster_titles:\n",
    "#         print(f\"  - {title}\")"
   ]
  },
  {
   "cell_type": "markdown",
   "metadata": {},
   "source": [
    "## GREY WOLF OPTIMIZATION(GWO)"
   ]
  },
  {
   "cell_type": "code",
   "execution_count": 10,
   "metadata": {},
   "outputs": [],
   "source": [
    "import numpy as np\n",
    "import pandas as pd\n",
    "\n",
    "class GreyWolf:\n",
    "    def __init__(self, num_clusters, num_features):\n",
    "        self.position = np.random.rand(num_clusters, num_features)\n",
    "        self.best_position = self.position.copy()\n",
    "        self.best_fitness = float('inf')"
   ]
  },
  {
   "cell_type": "code",
   "execution_count": 11,
   "metadata": {},
   "outputs": [],
   "source": [
    "def gwo_fitness_function(data, wolves, num_clusters):\n",
    "    distances = np.zeros((len(data), num_clusters))\n",
    "\n",
    "    for i, wolf in enumerate(wolves):\n",
    "        for j in range(num_clusters):\n",
    "            distances[:, j] = np.linalg.norm(data - wolf.position[j], axis=1)\n",
    "\n",
    "        wolf_fitness = np.sum(np.min(distances, axis=1))\n",
    "\n",
    "        if wolf_fitness < wolf.best_fitness:\n",
    "            wolf.best_fitness = wolf_fitness\n",
    "            wolf.best_position = wolf.position.copy()\n",
    "\n",
    "    return wolves"
   ]
  },
  {
   "cell_type": "code",
   "execution_count": 12,
   "metadata": {},
   "outputs": [],
   "source": [
    "def gwo_update_position(wolves, a, num_clusters):\n",
    "    alpha, beta, delta = wolves[0], wolves[1], wolves[2]\n",
    "\n",
    "    for wolf in wolves:\n",
    "        r1, r2 = np.random.rand(), np.random.rand()\n",
    "        A1, A2, A3 = 2 * a * r1 - a, 2 * a * r2 - a, 2 * r2\n",
    "\n",
    "        D_alpha = np.abs(A1 * alpha.position - wolf.position)\n",
    "        D_beta = np.abs(A2 * beta.position - wolf.position)\n",
    "        D_delta = np.abs(A3 * delta.position - wolf.position)\n",
    "\n",
    "        X1 = alpha.position - A1 * D_alpha\n",
    "        X2 = beta.position - A2 * D_beta\n",
    "        X3 = delta.position - A3 * D_delta\n",
    "\n",
    "        wolf.position = (X1 + X2 + X3) / 3"
   ]
  },
  {
   "cell_type": "code",
   "execution_count": 13,
   "metadata": {},
   "outputs": [],
   "source": [
    "def gwo_initialize_wolves(num_wolves, num_clusters, num_features):\n",
    "    wolves = [GreyWolf(num_clusters, num_features) for _ in range(num_wolves)]\n",
    "    return wolves"
   ]
  },
  {
   "cell_type": "code",
   "execution_count": 14,
   "metadata": {},
   "outputs": [],
   "source": [
    "# Load your data and set parameters\n",
    "data = np.loadtxt(\"./data/wikipedia_td.txt\")\n",
    "num_wolves = 3  # Number of wolves in the GWO algorithm\n",
    "num_clusters = 10\n",
    "num_features = data.shape[1]\n",
    "max_iterations = 100\n",
    "a = 2.0  # Parameter for GWO algorithm\n",
    "\n",
    "# Initialize wolves\n",
    "wolves = gwo_initialize_wolves(num_wolves, num_clusters, num_features)"
   ]
  },
  {
   "cell_type": "code",
   "execution_count": 15,
   "metadata": {},
   "outputs": [],
   "source": [
    "# GWO Main Loop\n",
    "for iteration in range(max_iterations):\n",
    "    wolves = gwo_fitness_function(data, wolves, num_clusters)\n",
    "\n",
    "    # Update wolves' positions\n",
    "    gwo_update_position(wolves, a, num_clusters)"
   ]
  },
  {
   "cell_type": "code",
   "execution_count": 21,
   "metadata": {},
   "outputs": [
    {
     "name": "stdout",
     "output_type": "stream",
     "text": [
      "(10, 500)\n"
     ]
    }
   ],
   "source": [
    "# Retrieve the best wolf's position\n",
    "global_best_position = wolves[np.argmin([wolf.best_fitness for wolf in wolves])].best_position\n",
    "\n",
    "\n",
    "# Load dictionary from CSV file\n",
    "dictionary_path = \"./data/dictionary.csv\"  # Replace with the actual path to your dictionary CSV file\n",
    "dictionary = {}\n",
    "\n",
    "with open(dictionary_path, \"r\", encoding=\"utf-8\") as csvfile:\n",
    "    reader = csv.reader(csvfile)\n",
    "    for index, word in enumerate(reader):\n",
    "        dictionary[index] = word[0]\n"
   ]
  },
  {
   "cell_type": "code",
   "execution_count": 22,
   "metadata": {},
   "outputs": [
    {
     "name": "stdout",
     "output_type": "stream",
     "text": [
      "[[171 318 208 ... 453  24 149]\n",
      " [287 335 182 ... 381  74 348]\n",
      " [353 435 425 ... 205 225  83]\n",
      " ...\n",
      " [367 207 274 ... 203 292 484]\n",
      " [360 289 403 ...   0 278  68]\n",
      " [454 312  20 ... 110 477  18]]\n",
      "Top words for each cluster (GWO):\n",
      "Cluster 1: writing, annual, personal, version, argue, system, sometimes, local, website, cause\n",
      "Cluster 2: fellow, radio, seek, university, request, track, article, travel, conclude, cross\n",
      "Cluster 3: private, church, reviews, local, president, spend, decline, achieve, white, fail\n",
      "Cluster 4: significant, addition, minute, series, reference, debut, develop, website, plan, effect\n",
      "Cluster 5: accord, suffer, miss, executive, book, decline, commercial, website, debut, rest\n",
      "Cluster 6: san, suggest, central, bill, offer, game, total, canada, manager, reach\n",
      "Cluster 7: lead, occur, set, boy, war, private, mixed, ability, wear, sense\n",
      "Cluster 8: pick, promote, style, attention, history, king, activity, publish, produce, originally\n",
      "Cluster 9: mention, meeting, guest, participate, require, raise, popular, entire, claim, success\n",
      "Cluster 10: make, heart, report, director, local, location, respectively, multiple, america, pay\n"
     ]
    }
   ],
   "source": [
    "# Print the words corresponding to the top 10 entries of the global best position\n",
    "sorted_indices = np.argsort(-global_best_position, axis=1)\n",
    "top_words = [[dictionary[idx] for idx in row[:10]] for row in sorted_indices]\n",
    "print(\"Top words for each cluster (GWO):\")\n",
    "for cluster_index, words in enumerate(top_words):\n",
    "    print(f\"Cluster {cluster_index + 1}: {', '.join(words)}\")\n"
   ]
  },
  {
   "cell_type": "code",
   "execution_count": 18,
   "metadata": {},
   "outputs": [],
   "source": [
    "# Load titles from CSV file\n",
    "titles_path = \"./data/titles.csv\"  # Replace with the actual path to your titles CSV file\n",
    "titles_df = pd.read_csv(titles_path, header=None, names=['Titles'])"
   ]
  },
  {
   "cell_type": "code",
   "execution_count": 27,
   "metadata": {},
   "outputs": [
    {
     "name": "stdout",
     "output_type": "stream",
     "text": [
      "Top 10 titles for each cluster:\n",
      "Cluster 1: Keanu_Reeves, Negan, Crimson_Peak, Unfinished_portrait_of_Franklin_D._Roosevelt, Charlie_Sheen, Rodrigo_Duterte, Coachella_Valley_Music_and_Arts_Festival, Keanu_Reeves, Keanu_Reeves, Cam_Newton\n",
      "Cluster 2: Rodrigo_Duterte, Coachella_Valley_Music_and_Arts_Festival, Keanu_Reeves, Coachella_Valley_Music_and_Arts_Festival, Keanu_Reeves, Cam_Newton, Cam_Newton, Unfinished_portrait_of_Franklin_D._Roosevelt, Negan, Crimson_Peak\n",
      "Cluster 3: Unfinished_portrait_of_Franklin_D._Roosevelt, Cam_Newton, Cam_Newton, Negan, Lisa_Brennan-Jobs, Crimson_Peak, Unfinished_portrait_of_Franklin_D._Roosevelt, Rodrigo_Duterte, Lisa_Brennan-Jobs, Beyonce\n",
      "Cluster 4: Coachella_Valley_Music_and_Arts_Festival, Keanu_Reeves, Unfinished_portrait_of_Franklin_D._Roosevelt, Crimson_Peak, Cam_Newton, Beyonce, Crimson_Peak, Crimson_Peak, Cam_Newton, Keanu_Reeves\n",
      "Cluster 5: Cam_Newton, Charlie_Sheen, Negan, Charlie_Sheen, Negan, Coachella_Valley_Music_and_Arts_Festival, Charlie_Sheen, Lisa_Brennan-Jobs, Crimson_Peak, Charlie_Sheen\n",
      "Cluster 6: Negan, Beyonce, Beyonce, Lisa_Brennan-Jobs, Unfinished_portrait_of_Franklin_D._Roosevelt, Charlie_Sheen, Rodrigo_Duterte, Coachella_Valley_Music_and_Arts_Festival, Beyonce, Negan\n",
      "Cluster 7: Crimson_Peak, Crimson_Peak, Rodrigo_Duterte, Beyonce, Crimson_Peak, Keanu_Reeves, Keanu_Reeves, Negan, Unfinished_portrait_of_Franklin_D._Roosevelt, Rodrigo_Duterte\n",
      "Cluster 8: Beyonce, Lisa_Brennan-Jobs, Charlie_Sheen, Keanu_Reeves, Beyonce, Negan, Negan, Beyonce, Rodrigo_Duterte, Lisa_Brennan-Jobs\n",
      "Cluster 9: Charlie_Sheen, Unfinished_portrait_of_Franklin_D._Roosevelt, Lisa_Brennan-Jobs, Rodrigo_Duterte, Rodrigo_Duterte, Unfinished_portrait_of_Franklin_D._Roosevelt, Beyonce, Charlie_Sheen, Coachella_Valley_Music_and_Arts_Festival, Unfinished_portrait_of_Franklin_D._Roosevelt\n",
      "Cluster 10: Lisa_Brennan-Jobs, Rodrigo_Duterte, Coachella_Valley_Music_and_Arts_Festival, Cam_Newton, Coachella_Valley_Music_and_Arts_Festival, Lisa_Brennan-Jobs, Lisa_Brennan-Jobs, Cam_Newton, Charlie_Sheen, Coachella_Valley_Music_and_Arts_Festival\n"
     ]
    }
   ],
   "source": [
    "import csv\n",
    "\n",
    "# Load dictionary from CSV file\n",
    "titles_path = \"./data/titles.csv\"  # Replace with the actual path to your dictionary CSV file\n",
    "titles = {}\n",
    "\n",
    "with open(titles_path, \"r\", encoding=\"utf-8\") as csvfile:\n",
    "    reader = csv.reader(csvfile)\n",
    "    for index, title in enumerate(reader):\n",
    "        titles[index] = title[0]\n",
    "\n",
    "sorted_indices = np.argsort(-global_best_position, axis=0)\n",
    "top_titles = [[titles[idx] for idx in row[:10]] for row in sorted_indices]\n",
    "print(\"Top 10 titles for each cluster:\")\n",
    "for cluster_index, cluster_titles in enumerate(top_titles):\n",
    "    print(f\"Cluster {cluster_index + 1}: {', '.join(cluster_titles)}\")\n"
   ]
  },
  {
   "cell_type": "code",
   "execution_count": null,
   "metadata": {},
   "outputs": [],
   "source": []
  }
 ],
 "metadata": {
  "kernelspec": {
   "display_name": "Python 3",
   "language": "python",
   "name": "python3"
  },
  "language_info": {
   "codemirror_mode": {
    "name": "ipython",
    "version": 3
   },
   "file_extension": ".py",
   "mimetype": "text/x-python",
   "name": "python",
   "nbconvert_exporter": "python",
   "pygments_lexer": "ipython3",
   "version": "3.12.0"
  }
 },
 "nbformat": 4,
 "nbformat_minor": 2
}
